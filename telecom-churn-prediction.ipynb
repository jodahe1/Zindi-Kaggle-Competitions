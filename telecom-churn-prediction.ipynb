{
 "cells": [
  {
   "cell_type": "code",
   "execution_count": null,
   "id": "32454b50",
   "metadata": {
    "execution": {
     "iopub.execute_input": "2023-12-01T06:35:56.046062Z",
     "iopub.status.busy": "2023-12-01T06:35:56.045219Z",
     "iopub.status.idle": "2023-12-01T06:35:59.302648Z",
     "shell.execute_reply": "2023-12-01T06:35:59.301409Z"
    },
    "papermill": {
     "duration": 3.286884,
     "end_time": "2023-12-01T06:35:59.305946",
     "exception": false,
     "start_time": "2023-12-01T06:35:56.019062",
     "status": "completed"
    },
    "tags": []
   },
   "outputs": [],
   "source": [
    "# Libraries \n",
    "import pandas as pd\n",
    "import numpy as np\n",
    "import matplotlib.pyplot as plt\n",
    "import seaborn as sns\n",
    "import category_encoders as ce\n",
    "from sklearn.preprocessing import OneHotEncoder\n",
    "from imblearn.over_sampling import SMOTE\n",
    "from sklearn.model_selection import train_test_split\n",
    "from sklearn.preprocessing import MinMaxScaler\n",
    "from sklearn.ensemble import RandomForestClassifier\n",
    "from sklearn.svm import SVC\n",
    "from sklearn.metrics import confusion_matrix\n",
    "from sklearn.metrics import classification_report\n",
    "from sklearn.metrics import accuracy_score\n",
    "from sklearn.metrics import cohen_kappa_score\n",
    "from xgboost import XGBClassifier\n",
    "import lightgbm as lgb"
   ]
  },
  {
   "cell_type": "code",
   "execution_count": null,
   "id": "df247b1a",
   "metadata": {
    "execution": {
     "iopub.execute_input": "2023-12-01T06:35:59.356677Z",
     "iopub.status.busy": "2023-12-01T06:35:59.355264Z",
     "iopub.status.idle": "2023-12-01T06:35:59.413003Z",
     "shell.execute_reply": "2023-12-01T06:35:59.412135Z"
    },
    "papermill": {
     "duration": 0.086075,
     "end_time": "2023-12-01T06:35:59.416312",
     "exception": false,
     "start_time": "2023-12-01T06:35:59.330237",
     "status": "completed"
    },
    "tags": []
   },
   "outputs": [],
   "source": [
    "# load the dataset\n",
    "train = pd.read_csv('../customer-churn-prediction-2020/train.csv')\n",
    "test = pd.read_csv('../customer-churn-prediction-2020/test.csv')\n",
    "print('Train shape {}'.format(train.shape))\n",
    "print('Test shape {}'.format(test.shape))"
   ]
  },
  {
   "cell_type": "code",
   "execution_count": null,
   "id": "e2f730d1",
   "metadata": {
    "execution": {
     "iopub.execute_input": "2023-12-01T06:35:59.468813Z",
     "iopub.status.busy": "2023-12-01T06:35:59.468052Z",
     "iopub.status.idle": "2023-12-01T06:35:59.472310Z",
     "shell.execute_reply": "2023-12-01T06:35:59.471533Z"
    },
    "papermill": {
     "duration": 0.032763,
     "end_time": "2023-12-01T06:35:59.474682",
     "exception": false,
     "start_time": "2023-12-01T06:35:59.441919",
     "status": "completed"
    },
    "tags": []
   },
   "outputs": [],
   "source": [
    "# display the all columns \n",
    "pd.set_option('display.max_columns',None)"
   ]
  },
  {
   "cell_type": "markdown",
   "id": "425b2a55",
   "metadata": {
    "papermill": {
     "duration": 0.023877,
     "end_time": "2023-12-01T06:35:59.618005",
     "exception": false,
     "start_time": "2023-12-01T06:35:59.594128",
     "status": "completed"
    },
    "tags": []
   },
   "source": [
    "## Data Exploration "
   ]
  },
  {
   "cell_type": "code",
   "execution_count": null,
   "id": "bc581f3f",
   "metadata": {
    "execution": {
     "iopub.execute_input": "2023-12-01T06:35:59.670225Z",
     "iopub.status.busy": "2023-12-01T06:35:59.669514Z",
     "iopub.status.idle": "2023-12-01T06:35:59.708615Z",
     "shell.execute_reply": "2023-12-01T06:35:59.707270Z"
    },
    "papermill": {
     "duration": 0.069825,
     "end_time": "2023-12-01T06:35:59.712011",
     "exception": false,
     "start_time": "2023-12-01T06:35:59.642186",
     "status": "completed"
    },
    "tags": []
   },
   "outputs": [],
   "source": [
    "# Display the head of the data\n",
    "train.head()\n"
   ]
  },
  {
   "cell_type": "code",
   "execution_count": null,
   "id": "9e33c952",
   "metadata": {
    "execution": {
     "iopub.execute_input": "2023-12-01T06:35:59.765210Z",
     "iopub.status.busy": "2023-12-01T06:35:59.764766Z",
     "iopub.status.idle": "2023-12-01T06:35:59.796064Z",
     "shell.execute_reply": "2023-12-01T06:35:59.794982Z"
    },
    "papermill": {
     "duration": 0.061505,
     "end_time": "2023-12-01T06:35:59.798602",
     "exception": false,
     "start_time": "2023-12-01T06:35:59.737097",
     "status": "completed"
    },
    "tags": []
   },
   "outputs": [],
   "source": [
    "# Checking the missing values \n",
    "train.info()"
   ]
  },
  {
   "cell_type": "markdown",
   "id": "64c3ae32",
   "metadata": {
    "execution": {
     "iopub.execute_input": "2023-12-01T05:36:43.594663Z",
     "iopub.status.busy": "2023-12-01T05:36:43.594208Z",
     "iopub.status.idle": "2023-12-01T05:36:43.602667Z",
     "shell.execute_reply": "2023-12-01T05:36:43.600858Z",
     "shell.execute_reply.started": "2023-12-01T05:36:43.594625Z"
    },
    "papermill": {
     "duration": 0.024325,
     "end_time": "2023-12-01T06:35:59.848059",
     "exception": false,
     "start_time": "2023-12-01T06:35:59.823734",
     "status": "completed"
    },
    "tags": []
   },
   "source": [
    "* **There are no missing values in any features.**"
   ]
  },
  {
   "cell_type": "code",
   "execution_count": null,
   "id": "4348bf97",
   "metadata": {
    "execution": {
     "iopub.execute_input": "2023-12-01T06:35:59.901322Z",
     "iopub.status.busy": "2023-12-01T06:35:59.899926Z",
     "iopub.status.idle": "2023-12-01T06:35:59.962477Z",
     "shell.execute_reply": "2023-12-01T06:35:59.961330Z"
    },
    "papermill": {
     "duration": 0.092432,
     "end_time": "2023-12-01T06:35:59.965713",
     "exception": false,
     "start_time": "2023-12-01T06:35:59.873281",
     "status": "completed"
    },
    "tags": []
   },
   "outputs": [],
   "source": [
    "# describe the five points of statistics of numericals data\n",
    "train.describe()"
   ]
  },
  {
   "cell_type": "code",
   "execution_count": null,
   "id": "5872d621",
   "metadata": {
    "execution": {
     "iopub.execute_input": "2023-12-01T06:36:00.022331Z",
     "iopub.status.busy": "2023-12-01T06:36:00.020905Z",
     "iopub.status.idle": "2023-12-01T06:36:00.052472Z",
     "shell.execute_reply": "2023-12-01T06:36:00.051039Z"
    },
    "papermill": {
     "duration": 0.063232,
     "end_time": "2023-12-01T06:36:00.055128",
     "exception": false,
     "start_time": "2023-12-01T06:35:59.991896",
     "status": "completed"
    },
    "tags": []
   },
   "outputs": [],
   "source": [
    "# Describe the string data\n",
    "train.describe(include='O')"
   ]
  },
  {
   "cell_type": "markdown",
   "id": "c12294ea",
   "metadata": {
    "papermill": {
     "duration": 0.025522,
     "end_time": "2023-12-01T06:36:00.107446",
     "exception": false,
     "start_time": "2023-12-01T06:36:00.081924",
     "status": "completed"
    },
    "tags": []
   },
   "source": [
    "### Univariate Analysis"
   ]
  },
  {
   "cell_type": "markdown",
   "id": "461a1191",
   "metadata": {
    "papermill": {
     "duration": 0.025181,
     "end_time": "2023-12-01T06:36:00.157735",
     "exception": false,
     "start_time": "2023-12-01T06:36:00.132554",
     "status": "completed"
    },
    "tags": []
   },
   "source": [
    "#### 1. Categorical Variables"
   ]
  },
  {
   "cell_type": "code",
   "execution_count": null,
   "id": "448f35ae",
   "metadata": {
    "execution": {
     "iopub.execute_input": "2023-12-01T06:36:00.210371Z",
     "iopub.status.busy": "2023-12-01T06:36:00.209988Z",
     "iopub.status.idle": "2023-12-01T06:36:00.216435Z",
     "shell.execute_reply": "2023-12-01T06:36:00.215257Z"
    },
    "papermill": {
     "duration": 0.035893,
     "end_time": "2023-12-01T06:36:00.218928",
     "exception": false,
     "start_time": "2023-12-01T06:36:00.183035",
     "status": "completed"
    },
    "tags": []
   },
   "outputs": [],
   "source": [
    "# function for display the percentage\n",
    "def with_per(total, axis):\n",
    "    for p in axis.patches:\n",
    "        percentage = '{:.1f}%'.format(100 * p.get_height()/total)\n",
    "        x = p.get_x() + p.get_width()\n",
    "        y = p.get_height()\n",
    "        ax.annotate(percentage, (x, y),ha='center')"
   ]
  },
  {
   "cell_type": "code",
   "execution_count": null,
   "id": "1dd90fdb",
   "metadata": {
    "execution": {
     "iopub.execute_input": "2023-12-01T06:36:00.272692Z",
     "iopub.status.busy": "2023-12-01T06:36:00.272209Z",
     "iopub.status.idle": "2023-12-01T06:36:00.279251Z",
     "shell.execute_reply": "2023-12-01T06:36:00.277958Z"
    },
    "papermill": {
     "duration": 0.037959,
     "end_time": "2023-12-01T06:36:00.282933",
     "exception": false,
     "start_time": "2023-12-01T06:36:00.244974",
     "status": "completed"
    },
    "tags": []
   },
   "outputs": [],
   "source": [
    "# extract the categorical variables\n",
    "cat_var = [ feature for feature in train.columns if train[feature].dtypes=='O']\n",
    "print('List of categorical variables {}'.format(cat_var))"
   ]
  },
  {
   "cell_type": "code",
   "execution_count": null,
   "id": "788d2314",
   "metadata": {
    "execution": {
     "iopub.execute_input": "2023-12-01T06:36:00.336265Z",
     "iopub.status.busy": "2023-12-01T06:36:00.335810Z",
     "iopub.status.idle": "2023-12-01T06:36:02.703233Z",
     "shell.execute_reply": "2023-12-01T06:36:02.701862Z"
    },
    "papermill": {
     "duration": 2.399071,
     "end_time": "2023-12-01T06:36:02.707718",
     "exception": false,
     "start_time": "2023-12-01T06:36:00.308647",
     "status": "completed"
    },
    "tags": []
   },
   "outputs": [],
   "source": [
    "#display the all the categorical variable \n",
    "for feature in cat_var:\n",
    "    sns.set(style = 'whitegrid')\n",
    "    plt.figure(figsize=(20,5))\n",
    "    total = len(train)\n",
    "    ax = sns.countplot(x = train[feature], data = train)\n",
    "    #plt.title(feature)\n",
    "    with_per(total, ax)\n",
    "    plt.show()"
   ]
  },
  {
   "cell_type": "markdown",
   "id": "917c1fbe",
   "metadata": {
    "papermill": {
     "duration": 0.029072,
     "end_time": "2023-12-01T06:36:02.766548",
     "exception": false,
     "start_time": "2023-12-01T06:36:02.737476",
     "status": "completed"
    },
    "tags": []
   },
   "source": [
    "* See the above plot\n",
    "* 1. 90.7% customers didn't have international plan\n",
    "* 2. 73.8%  customers didn't have voice mail plan\n",
    "* 3. 49.6% customers are living in the area code area_code_415.\n",
    "* 4. only 14.1% customers are churn\n"
   ]
  },
  {
   "cell_type": "markdown",
   "id": "6586ae3f",
   "metadata": {
    "papermill": {
     "duration": 0.029909,
     "end_time": "2023-12-01T06:36:02.827785",
     "exception": false,
     "start_time": "2023-12-01T06:36:02.797876",
     "status": "completed"
    },
    "tags": []
   },
   "source": [
    "#### 2. Numerical Variables\n"
   ]
  },
  {
   "cell_type": "code",
   "execution_count": null,
   "id": "685cc748",
   "metadata": {
    "execution": {
     "iopub.execute_input": "2023-12-01T06:36:02.888846Z",
     "iopub.status.busy": "2023-12-01T06:36:02.888059Z",
     "iopub.status.idle": "2023-12-01T06:36:02.896062Z",
     "shell.execute_reply": "2023-12-01T06:36:02.894603Z"
    },
    "papermill": {
     "duration": 0.041139,
     "end_time": "2023-12-01T06:36:02.898322",
     "exception": false,
     "start_time": "2023-12-01T06:36:02.857183",
     "status": "completed"
    },
    "tags": []
   },
   "outputs": [],
   "source": [
    "#Extract the numerical features from the dataset\n",
    "num_var = [feature for feature in train.columns if train[feature].dtypes != 'O']\n",
    "print('List of Numerical featues {}'.format(num_var))"
   ]
  },
  {
   "cell_type": "code",
   "execution_count": null,
   "id": "9f44588e",
   "metadata": {
    "execution": {
     "iopub.execute_input": "2023-12-01T06:36:02.959077Z",
     "iopub.status.busy": "2023-12-01T06:36:02.958324Z",
     "iopub.status.idle": "2023-12-01T06:36:10.481618Z",
     "shell.execute_reply": "2023-12-01T06:36:10.480559Z"
    },
    "papermill": {
     "duration": 7.556711,
     "end_time": "2023-12-01T06:36:10.483999",
     "exception": false,
     "start_time": "2023-12-01T06:36:02.927288",
     "status": "completed"
    },
    "tags": []
   },
   "outputs": [],
   "source": [
    "# Density plot of all the numerical features\n",
    "for feature in num_var:\n",
    "    sns.distplot(train[feature])\n",
    "    plt.xlabel(feature)\n",
    "    plt.ylabel('Density')\n",
    "    plt.show()"
   ]
  },
  {
   "cell_type": "markdown",
   "id": "65adffa7",
   "metadata": {
    "papermill": {
     "duration": 0.038649,
     "end_time": "2023-12-01T06:36:10.562314",
     "exception": false,
     "start_time": "2023-12-01T06:36:10.523665",
     "status": "completed"
    },
    "tags": []
   },
   "source": [
    "* 1. Number_customer_service_calls, total_internation_call and Number_voice_mail_messages are not a normal distribuation so we can covert into normal distribution in featuer engineering step.\n",
    "* 2. Other than the obove features all look like a normal distribuation."
   ]
  },
  {
   "cell_type": "markdown",
   "id": "a4c328fc",
   "metadata": {
    "papermill": {
     "duration": 0.041709,
     "end_time": "2023-12-01T06:36:10.645300",
     "exception": false,
     "start_time": "2023-12-01T06:36:10.603591",
     "status": "completed"
    },
    "tags": []
   },
   "source": [
    "### Bivariate Analysis"
   ]
  },
  {
   "cell_type": "markdown",
   "id": "35b93dce",
   "metadata": {
    "papermill": {
     "duration": 0.043522,
     "end_time": "2023-12-01T06:36:10.728858",
     "exception": false,
     "start_time": "2023-12-01T06:36:10.685336",
     "status": "completed"
    },
    "tags": []
   },
   "source": [
    "#### 1. Countinous Features"
   ]
  },
  {
   "cell_type": "code",
   "execution_count": null,
   "id": "ab782935",
   "metadata": {
    "execution": {
     "iopub.execute_input": "2023-12-01T06:36:10.814156Z",
     "iopub.status.busy": "2023-12-01T06:36:10.812647Z",
     "iopub.status.idle": "2023-12-01T06:36:11.976258Z",
     "shell.execute_reply": "2023-12-01T06:36:11.974565Z"
    },
    "papermill": {
     "duration": 1.209772,
     "end_time": "2023-12-01T06:36:11.979105",
     "exception": false,
     "start_time": "2023-12-01T06:36:10.769333",
     "status": "completed"
    },
    "tags": []
   },
   "outputs": [],
   "source": [
    "sns.FacetGrid(train, hue='churn',height=7).map(sns.distplot, 'account_length').add_legend()\n",
    "plt.title('Churn rate VS account_length')"
   ]
  },
  {
   "cell_type": "markdown",
   "id": "c90826f6",
   "metadata": {
    "papermill": {
     "duration": 0.041257,
     "end_time": "2023-12-01T06:36:12.061591",
     "exception": false,
     "start_time": "2023-12-01T06:36:12.020334",
     "status": "completed"
    },
    "tags": []
   },
   "source": [
    "* customers account length between 60 to 120 has more churn rate"
   ]
  },
  {
   "cell_type": "code",
   "execution_count": null,
   "id": "77ac6b9b",
   "metadata": {
    "execution": {
     "iopub.execute_input": "2023-12-01T06:36:12.148041Z",
     "iopub.status.busy": "2023-12-01T06:36:12.147060Z",
     "iopub.status.idle": "2023-12-01T06:36:13.252884Z",
     "shell.execute_reply": "2023-12-01T06:36:13.251769Z"
    },
    "papermill": {
     "duration": 1.153239,
     "end_time": "2023-12-01T06:36:13.255925",
     "exception": false,
     "start_time": "2023-12-01T06:36:12.102686",
     "status": "completed"
    },
    "tags": []
   },
   "outputs": [],
   "source": [
    "sns.FacetGrid(train, hue='churn',height=7).map(sns.distplot, 'number_vmail_messages').add_legend()\n",
    "plt.title('Churn rate VS number_vmail_messages')\n",
    "plt.show()"
   ]
  },
  {
   "cell_type": "markdown",
   "id": "b37842e7",
   "metadata": {
    "papermill": {
     "duration": 0.041902,
     "end_time": "2023-12-01T06:36:13.339831",
     "exception": false,
     "start_time": "2023-12-01T06:36:13.297929",
     "status": "completed"
    },
    "tags": []
   },
   "source": [
    "* More churn rate when the number_vamil_messages is 0"
   ]
  },
  {
   "cell_type": "code",
   "execution_count": null,
   "id": "696a9c9f",
   "metadata": {
    "execution": {
     "iopub.execute_input": "2023-12-01T06:36:13.426771Z",
     "iopub.status.busy": "2023-12-01T06:36:13.426298Z",
     "iopub.status.idle": "2023-12-01T06:36:14.547812Z",
     "shell.execute_reply": "2023-12-01T06:36:14.546614Z"
    },
    "papermill": {
     "duration": 1.168262,
     "end_time": "2023-12-01T06:36:14.550280",
     "exception": false,
     "start_time": "2023-12-01T06:36:13.382018",
     "status": "completed"
    },
    "tags": []
   },
   "outputs": [],
   "source": [
    "sns.FacetGrid(train, hue='churn',height=7).map(sns.distplot, 'total_day_minutes').add_legend()\n",
    "plt.title('Churn rate VS total day minutes')\n",
    "plt.show()"
   ]
  },
  {
   "cell_type": "markdown",
   "id": "d3f1cc23",
   "metadata": {
    "papermill": {
     "duration": 0.042393,
     "end_time": "2023-12-01T06:36:14.635588",
     "exception": false,
     "start_time": "2023-12-01T06:36:14.593195",
     "status": "completed"
    },
    "tags": []
   },
   "source": [
    "* Churn rate is high when the total_day_minutes is lies between 210 min to 300 min."
   ]
  },
  {
   "cell_type": "code",
   "execution_count": null,
   "id": "2f0049a5",
   "metadata": {
    "execution": {
     "iopub.execute_input": "2023-12-01T06:36:14.723765Z",
     "iopub.status.busy": "2023-12-01T06:36:14.722559Z",
     "iopub.status.idle": "2023-12-01T06:36:15.953395Z",
     "shell.execute_reply": "2023-12-01T06:36:15.952419Z"
    },
    "papermill": {
     "duration": 1.27787,
     "end_time": "2023-12-01T06:36:15.956522",
     "exception": false,
     "start_time": "2023-12-01T06:36:14.678652",
     "status": "completed"
    },
    "tags": []
   },
   "outputs": [],
   "source": [
    "sns.FacetGrid(train, hue='churn',height=7).map(sns.distplot, 'total_day_calls').add_legend()\n",
    "plt.title('Churn rate VS total day calls')\n",
    "plt.show()"
   ]
  },
  {
   "cell_type": "markdown",
   "id": "aae9bfe0",
   "metadata": {
    "papermill": {
     "duration": 0.044024,
     "end_time": "2023-12-01T06:36:16.045630",
     "exception": false,
     "start_time": "2023-12-01T06:36:16.001606",
     "status": "completed"
    },
    "tags": []
   },
   "source": [
    "* churn rate is high lies between 85 to 115."
   ]
  },
  {
   "cell_type": "code",
   "execution_count": null,
   "id": "9609e633",
   "metadata": {
    "execution": {
     "iopub.execute_input": "2023-12-01T06:36:16.136057Z",
     "iopub.status.busy": "2023-12-01T06:36:16.135422Z",
     "iopub.status.idle": "2023-12-01T06:36:17.292663Z",
     "shell.execute_reply": "2023-12-01T06:36:17.291489Z"
    },
    "papermill": {
     "duration": 1.205878,
     "end_time": "2023-12-01T06:36:17.295166",
     "exception": false,
     "start_time": "2023-12-01T06:36:16.089288",
     "status": "completed"
    },
    "tags": []
   },
   "outputs": [],
   "source": [
    "sns.FacetGrid(train, hue='churn',height=7).map(sns.distplot, 'total_day_charge').add_legend()\n",
    "plt.title('Churn rate VS total day charge')\n",
    "plt.show()"
   ]
  },
  {
   "cell_type": "markdown",
   "id": "81393040",
   "metadata": {
    "papermill": {
     "duration": 0.045151,
     "end_time": "2023-12-01T06:36:17.386004",
     "exception": false,
     "start_time": "2023-12-01T06:36:17.340853",
     "status": "completed"
    },
    "tags": []
   },
   "source": [
    "* churn rate is high when total day charge is lies between 40 to 50."
   ]
  },
  {
   "cell_type": "code",
   "execution_count": null,
   "id": "3e5eaf6c",
   "metadata": {
    "execution": {
     "iopub.execute_input": "2023-12-01T06:36:17.478252Z",
     "iopub.status.busy": "2023-12-01T06:36:17.477766Z",
     "iopub.status.idle": "2023-12-01T06:36:18.644922Z",
     "shell.execute_reply": "2023-12-01T06:36:18.643928Z"
    },
    "papermill": {
     "duration": 1.216792,
     "end_time": "2023-12-01T06:36:18.647499",
     "exception": false,
     "start_time": "2023-12-01T06:36:17.430707",
     "status": "completed"
    },
    "tags": []
   },
   "outputs": [],
   "source": [
    "sns.FacetGrid(train, hue='churn',height=7).map(sns.distplot, 'total_eve_minutes').add_legend()\n",
    "plt.title('Churn rate VS total evening minutes')\n",
    "plt.show()"
   ]
  },
  {
   "cell_type": "markdown",
   "id": "b0b4c8ec",
   "metadata": {
    "papermill": {
     "duration": 0.045857,
     "end_time": "2023-12-01T06:36:18.739612",
     "exception": false,
     "start_time": "2023-12-01T06:36:18.693755",
     "status": "completed"
    },
    "tags": []
   },
   "source": [
    "* churn rate is high when the total evening minutes is lies between 180 min to 220 min."
   ]
  },
  {
   "cell_type": "code",
   "execution_count": null,
   "id": "78215a29",
   "metadata": {
    "execution": {
     "iopub.execute_input": "2023-12-01T06:36:18.836038Z",
     "iopub.status.busy": "2023-12-01T06:36:18.835333Z",
     "iopub.status.idle": "2023-12-01T06:36:20.036444Z",
     "shell.execute_reply": "2023-12-01T06:36:20.035218Z"
    },
    "papermill": {
     "duration": 1.253549,
     "end_time": "2023-12-01T06:36:20.040081",
     "exception": false,
     "start_time": "2023-12-01T06:36:18.786532",
     "status": "completed"
    },
    "tags": []
   },
   "outputs": [],
   "source": [
    "sns.FacetGrid(train, hue='churn',height=5).map(sns.distplot, 'total_eve_calls').add_legend()\n",
    "plt.title('Churn rate VS total evening calls')\n",
    "plt.show()"
   ]
  },
  {
   "cell_type": "markdown",
   "id": "1aef2134",
   "metadata": {
    "papermill": {
     "duration": 0.048103,
     "end_time": "2023-12-01T06:36:20.137861",
     "exception": false,
     "start_time": "2023-12-01T06:36:20.089758",
     "status": "completed"
    },
    "tags": []
   },
   "source": [
    "* churn rate is high when total evening calls lies between 90 to 115."
   ]
  },
  {
   "cell_type": "code",
   "execution_count": null,
   "id": "effa8969",
   "metadata": {
    "execution": {
     "iopub.execute_input": "2023-12-01T06:36:20.237026Z",
     "iopub.status.busy": "2023-12-01T06:36:20.236541Z",
     "iopub.status.idle": "2023-12-01T06:36:21.705546Z",
     "shell.execute_reply": "2023-12-01T06:36:21.704222Z"
    },
    "papermill": {
     "duration": 1.522165,
     "end_time": "2023-12-01T06:36:21.708211",
     "exception": false,
     "start_time": "2023-12-01T06:36:20.186046",
     "status": "completed"
    },
    "tags": []
   },
   "outputs": [],
   "source": [
    "sns.FacetGrid(train, hue='churn',height=7).map(sns.distplot, 'total_eve_charge').add_legend()\n",
    "plt.title('Churn rate VS total evening charges')\n",
    "plt.show()"
   ]
  },
  {
   "cell_type": "markdown",
   "id": "3c5f1b58",
   "metadata": {
    "papermill": {
     "duration": 0.047855,
     "end_time": "2023-12-01T06:36:21.805753",
     "exception": false,
     "start_time": "2023-12-01T06:36:21.757898",
     "status": "completed"
    },
    "tags": []
   },
   "source": [
    "* churn rate is high when the total evening charge is lies between 15 to 18\n"
   ]
  },
  {
   "cell_type": "code",
   "execution_count": null,
   "id": "bd34a1b8",
   "metadata": {
    "execution": {
     "iopub.execute_input": "2023-12-01T06:36:21.909613Z",
     "iopub.status.busy": "2023-12-01T06:36:21.908943Z",
     "iopub.status.idle": "2023-12-01T06:36:23.035607Z",
     "shell.execute_reply": "2023-12-01T06:36:23.034032Z"
    },
    "papermill": {
     "duration": 1.183589,
     "end_time": "2023-12-01T06:36:23.038488",
     "exception": false,
     "start_time": "2023-12-01T06:36:21.854899",
     "status": "completed"
    },
    "tags": []
   },
   "outputs": [],
   "source": [
    "sns.FacetGrid(train, hue='churn',height=7).map(sns.distplot, 'total_night_minutes').add_legend()\n",
    "plt.title('Churn rate VS total night minutes')\n",
    "plt.show()"
   ]
  },
  {
   "cell_type": "markdown",
   "id": "c15e27a6",
   "metadata": {
    "papermill": {
     "duration": 0.048668,
     "end_time": "2023-12-01T06:36:23.137064",
     "exception": false,
     "start_time": "2023-12-01T06:36:23.088396",
     "status": "completed"
    },
    "tags": []
   },
   "source": [
    "* Churn rate is high when the total_night_minutes is lies between 190 to 220 min"
   ]
  },
  {
   "cell_type": "code",
   "execution_count": null,
   "id": "a4f5c73d",
   "metadata": {
    "execution": {
     "iopub.execute_input": "2023-12-01T06:36:23.237672Z",
     "iopub.status.busy": "2023-12-01T06:36:23.236932Z",
     "iopub.status.idle": "2023-12-01T06:36:24.416757Z",
     "shell.execute_reply": "2023-12-01T06:36:24.415443Z"
    },
    "papermill": {
     "duration": 1.233827,
     "end_time": "2023-12-01T06:36:24.419525",
     "exception": false,
     "start_time": "2023-12-01T06:36:23.185698",
     "status": "completed"
    },
    "tags": []
   },
   "outputs": [],
   "source": [
    "sns.FacetGrid(train, hue='churn',height=7).map(sns.distplot, 'total_night_calls').add_legend()\n",
    "plt.title('Churn rate VS total night calls')\n",
    "plt.show()"
   ]
  },
  {
   "cell_type": "markdown",
   "id": "1560999b",
   "metadata": {
    "papermill": {
     "duration": 0.049524,
     "end_time": "2023-12-01T06:36:24.519901",
     "exception": false,
     "start_time": "2023-12-01T06:36:24.470377",
     "status": "completed"
    },
    "tags": []
   },
   "source": [
    "* churn rate is high when total_nigh_calls lies between 90 to 110.\n"
   ]
  },
  {
   "cell_type": "code",
   "execution_count": null,
   "id": "b9a87935",
   "metadata": {
    "execution": {
     "iopub.execute_input": "2023-12-01T06:36:24.623167Z",
     "iopub.status.busy": "2023-12-01T06:36:24.622556Z",
     "iopub.status.idle": "2023-12-01T06:36:25.932920Z",
     "shell.execute_reply": "2023-12-01T06:36:25.931496Z"
    },
    "papermill": {
     "duration": 1.366267,
     "end_time": "2023-12-01T06:36:25.936218",
     "exception": false,
     "start_time": "2023-12-01T06:36:24.569951",
     "status": "completed"
    },
    "tags": []
   },
   "outputs": [],
   "source": [
    "sns.FacetGrid(train, hue='churn',height=7).map(sns.distplot, 'total_night_charge').add_legend()\n",
    "plt.title('Churn rate VS total night charge')\n",
    "plt.show()"
   ]
  },
  {
   "cell_type": "markdown",
   "id": "eb56a287",
   "metadata": {
    "papermill": {
     "duration": 0.054149,
     "end_time": "2023-12-01T06:36:26.043831",
     "exception": false,
     "start_time": "2023-12-01T06:36:25.989682",
     "status": "completed"
    },
    "tags": []
   },
   "source": [
    "* churn rate is high when total_night_charge lies between 7.5 to 10."
   ]
  },
  {
   "cell_type": "code",
   "execution_count": null,
   "id": "49df2634",
   "metadata": {
    "execution": {
     "iopub.execute_input": "2023-12-01T06:36:26.151953Z",
     "iopub.status.busy": "2023-12-01T06:36:26.151538Z",
     "iopub.status.idle": "2023-12-01T06:36:27.301527Z",
     "shell.execute_reply": "2023-12-01T06:36:27.300066Z"
    },
    "papermill": {
     "duration": 1.207877,
     "end_time": "2023-12-01T06:36:27.304824",
     "exception": false,
     "start_time": "2023-12-01T06:36:26.096947",
     "status": "completed"
    },
    "tags": []
   },
   "outputs": [],
   "source": [
    "sns.FacetGrid(train, hue='churn',height=7).map(sns.distplot, 'total_intl_minutes').add_legend()\n",
    "plt.title('Churn rate VS total international minutes')\n",
    "plt.show()"
   ]
  },
  {
   "cell_type": "markdown",
   "id": "9e495433",
   "metadata": {
    "papermill": {
     "duration": 0.054465,
     "end_time": "2023-12-01T06:36:27.413030",
     "exception": false,
     "start_time": "2023-12-01T06:36:27.358565",
     "status": "completed"
    },
    "tags": []
   },
   "source": [
    "* churn rate is high when total international minutes lies between 9 to 12.\n"
   ]
  },
  {
   "cell_type": "code",
   "execution_count": null,
   "id": "08e87ebd",
   "metadata": {
    "execution": {
     "iopub.execute_input": "2023-12-01T06:36:27.524538Z",
     "iopub.status.busy": "2023-12-01T06:36:27.522880Z",
     "iopub.status.idle": "2023-12-01T06:36:28.530675Z",
     "shell.execute_reply": "2023-12-01T06:36:28.529542Z"
    },
    "papermill": {
     "duration": 1.066366,
     "end_time": "2023-12-01T06:36:28.533768",
     "exception": false,
     "start_time": "2023-12-01T06:36:27.467402",
     "status": "completed"
    },
    "tags": []
   },
   "outputs": [],
   "source": [
    "sns.FacetGrid(train, hue='churn',height=7).map(sns.distplot, 'total_intl_calls').add_legend()\n",
    "plt.title('Churn rate VS total international calls')\n",
    "plt.show()"
   ]
  },
  {
   "cell_type": "markdown",
   "id": "782671fc",
   "metadata": {
    "papermill": {
     "duration": 0.052938,
     "end_time": "2023-12-01T06:36:28.642299",
     "exception": false,
     "start_time": "2023-12-01T06:36:28.589361",
     "status": "completed"
    },
    "tags": []
   },
   "source": [
    "* churn rate is high when total international calls is 1."
   ]
  },
  {
   "cell_type": "code",
   "execution_count": null,
   "id": "6e68c1c9",
   "metadata": {
    "execution": {
     "iopub.execute_input": "2023-12-01T06:36:28.752699Z",
     "iopub.status.busy": "2023-12-01T06:36:28.751862Z",
     "iopub.status.idle": "2023-12-01T06:36:29.813243Z",
     "shell.execute_reply": "2023-12-01T06:36:29.812055Z"
    },
    "papermill": {
     "duration": 1.120972,
     "end_time": "2023-12-01T06:36:29.816836",
     "exception": false,
     "start_time": "2023-12-01T06:36:28.695864",
     "status": "completed"
    },
    "tags": []
   },
   "outputs": [],
   "source": [
    "sns.FacetGrid(train, hue='churn',height=7).map(sns.distplot, 'total_intl_charge').add_legend()\n",
    "plt.title('Churn rate VS total international charge')\n",
    "plt.show()"
   ]
  },
  {
   "cell_type": "markdown",
   "id": "f724ded3",
   "metadata": {
    "papermill": {
     "duration": 0.059782,
     "end_time": "2023-12-01T06:36:29.932761",
     "exception": false,
     "start_time": "2023-12-01T06:36:29.872979",
     "status": "completed"
    },
    "tags": []
   },
   "source": [
    "* churn rate is high when total international charge is 2.5 to 3."
   ]
  },
  {
   "cell_type": "code",
   "execution_count": null,
   "id": "5d53b5de",
   "metadata": {
    "execution": {
     "iopub.execute_input": "2023-12-01T06:36:30.048777Z",
     "iopub.status.busy": "2023-12-01T06:36:30.048264Z",
     "iopub.status.idle": "2023-12-01T06:36:31.076214Z",
     "shell.execute_reply": "2023-12-01T06:36:31.074696Z"
    },
    "papermill": {
     "duration": 1.089434,
     "end_time": "2023-12-01T06:36:31.079382",
     "exception": false,
     "start_time": "2023-12-01T06:36:29.989948",
     "status": "completed"
    },
    "tags": []
   },
   "outputs": [],
   "source": [
    "sns.FacetGrid(train, hue='churn',height=7).map(sns.distplot, 'number_customer_service_calls').add_legend()\n",
    "plt.title('Churn rate VS Number of customer service calls')\n",
    "plt.show()"
   ]
  },
  {
   "cell_type": "markdown",
   "id": "e73aac35",
   "metadata": {
    "papermill": {
     "duration": 0.056147,
     "end_time": "2023-12-01T06:36:31.192120",
     "exception": false,
     "start_time": "2023-12-01T06:36:31.135973",
     "status": "completed"
    },
    "tags": []
   },
   "source": [
    "* churn rate is high when number of customer service calls is 1."
   ]
  },
  {
   "cell_type": "markdown",
   "id": "0f080500",
   "metadata": {
    "papermill": {
     "duration": 0.055236,
     "end_time": "2023-12-01T06:36:31.302990",
     "exception": false,
     "start_time": "2023-12-01T06:36:31.247754",
     "status": "completed"
    },
    "tags": []
   },
   "source": [
    "### Outlier Detection\n"
   ]
  },
  {
   "cell_type": "code",
   "execution_count": null,
   "id": "e2b12366",
   "metadata": {
    "execution": {
     "iopub.execute_input": "2023-12-01T06:36:31.416770Z",
     "iopub.status.busy": "2023-12-01T06:36:31.416343Z",
     "iopub.status.idle": "2023-12-01T06:36:36.049661Z",
     "shell.execute_reply": "2023-12-01T06:36:36.048412Z"
    },
    "papermill": {
     "duration": 4.693383,
     "end_time": "2023-12-01T06:36:36.052420",
     "exception": false,
     "start_time": "2023-12-01T06:36:31.359037",
     "status": "completed"
    },
    "tags": []
   },
   "outputs": [],
   "source": [
    "for feature in num_var:\n",
    "    if feature != 'churn':\n",
    "        sns.boxplot(x ='churn', y = feature, data = train)\n",
    "        plt.title(feature)\n",
    "        plt.show()"
   ]
  },
  {
   "cell_type": "markdown",
   "id": "311fc656",
   "metadata": {
    "papermill": {
     "duration": 0.066913,
     "end_time": "2023-12-01T06:36:36.188203",
     "exception": false,
     "start_time": "2023-12-01T06:36:36.121290",
     "status": "completed"
    },
    "tags": []
   },
   "source": [
    "* every features has a outliers so we need to remove the outliers.\n",
    "* outlies contains the some usefull information.\n",
    "* so we have to replace the outliers with some meaning full values. so we should replace the outliers with meadin values"
   ]
  },
  {
   "cell_type": "markdown",
   "id": "875bbb20",
   "metadata": {
    "papermill": {
     "duration": 0.066338,
     "end_time": "2023-12-01T06:36:36.322123",
     "exception": false,
     "start_time": "2023-12-01T06:36:36.255785",
     "status": "completed"
    },
    "tags": []
   },
   "source": [
    "#### Removing the outliers"
   ]
  },
  {
   "cell_type": "code",
   "execution_count": null,
   "id": "8cffd660",
   "metadata": {
    "execution": {
     "iopub.execute_input": "2023-12-01T06:36:36.458782Z",
     "iopub.status.busy": "2023-12-01T06:36:36.458338Z",
     "iopub.status.idle": "2023-12-01T06:36:36.466185Z",
     "shell.execute_reply": "2023-12-01T06:36:36.465233Z"
    },
    "papermill": {
     "duration": 0.079608,
     "end_time": "2023-12-01T06:36:36.468322",
     "exception": false,
     "start_time": "2023-12-01T06:36:36.388714",
     "status": "completed"
    },
    "tags": []
   },
   "outputs": [],
   "source": [
    "#functions for removing outliers\n",
    "def remove_outliers(train,labels):\n",
    "    for label in labels:\n",
    "        q1 = train[label].quantile(0.25)\n",
    "        q3 = train[label].quantile(0.75)\n",
    "        iqr = q3 - q1\n",
    "        upper_bound = q3 + 1.5 * iqr\n",
    "        lower_bound = q1 - 1.5 * iqr\n",
    "        train[label] = train[label].mask(train[label]< lower_bound, train[label].median(),axis=0)\n",
    "        train[label] = train[label].mask(train[label]> upper_bound, train[label].median(),axis=0)\n",
    "\n",
    "    return train"
   ]
  },
  {
   "cell_type": "code",
   "execution_count": null,
   "id": "346bf2b1",
   "metadata": {
    "execution": {
     "iopub.execute_input": "2023-12-01T06:36:36.606756Z",
     "iopub.status.busy": "2023-12-01T06:36:36.606305Z",
     "iopub.status.idle": "2023-12-01T06:36:36.670128Z",
     "shell.execute_reply": "2023-12-01T06:36:36.668964Z"
    },
    "papermill": {
     "duration": 0.137439,
     "end_time": "2023-12-01T06:36:36.673321",
     "exception": false,
     "start_time": "2023-12-01T06:36:36.535882",
     "status": "completed"
    },
    "tags": []
   },
   "outputs": [],
   "source": [
    "train = remove_outliers(train, num_var)"
   ]
  },
  {
   "cell_type": "markdown",
   "id": "764676da",
   "metadata": {
    "papermill": {
     "duration": 0.068787,
     "end_time": "2023-12-01T06:36:36.809217",
     "exception": false,
     "start_time": "2023-12-01T06:36:36.740430",
     "status": "completed"
    },
    "tags": []
   },
   "source": [
    "* after removing the outliers we have to see the outliers"
   ]
  },
  {
   "cell_type": "code",
   "execution_count": null,
   "id": "4a607cc8",
   "metadata": {
    "execution": {
     "iopub.execute_input": "2023-12-01T06:36:36.950622Z",
     "iopub.status.busy": "2023-12-01T06:36:36.949378Z",
     "iopub.status.idle": "2023-12-01T06:36:41.295612Z",
     "shell.execute_reply": "2023-12-01T06:36:41.293541Z"
    },
    "papermill": {
     "duration": 4.419561,
     "end_time": "2023-12-01T06:36:41.298562",
     "exception": false,
     "start_time": "2023-12-01T06:36:36.879001",
     "status": "completed"
    },
    "tags": []
   },
   "outputs": [],
   "source": [
    "for feature in num_var:\n",
    "    if feature != 'churn':\n",
    "        sns.boxplot(x ='churn', y = feature, data = train)\n",
    "        plt.title(feature)\n",
    "        plt.show()"
   ]
  },
  {
   "cell_type": "markdown",
   "id": "aa4bedcc",
   "metadata": {
    "papermill": {
     "duration": 0.080203,
     "end_time": "2023-12-01T06:36:41.454752",
     "exception": false,
     "start_time": "2023-12-01T06:36:41.374549",
     "status": "completed"
    },
    "tags": []
   },
   "source": [
    "### Handling the Categorical Variable"
   ]
  },
  {
   "cell_type": "markdown",
   "id": "803bf54a",
   "metadata": {
    "execution": {
     "iopub.execute_input": "2023-12-01T06:01:38.227715Z",
     "iopub.status.busy": "2023-12-01T06:01:38.227262Z",
     "iopub.status.idle": "2023-12-01T06:01:38.236278Z",
     "shell.execute_reply": "2023-12-01T06:01:38.234709Z",
     "shell.execute_reply.started": "2023-12-01T06:01:38.227678Z"
    },
    "papermill": {
     "duration": 0.075089,
     "end_time": "2023-12-01T06:36:41.605089",
     "exception": false,
     "start_time": "2023-12-01T06:36:41.530000",
     "status": "completed"
    },
    "tags": []
   },
   "source": [
    "* state feature has 51 different category so we can't converted into onehot encoder that is it create 51 different features so it leads to overfitting so I will use the hashing encoding for state featuer.\n"
   ]
  },
  {
   "cell_type": "code",
   "execution_count": null,
   "id": "e3f36b35",
   "metadata": {
    "execution": {
     "iopub.execute_input": "2023-12-01T06:36:41.759968Z",
     "iopub.status.busy": "2023-12-01T06:36:41.758855Z",
     "iopub.status.idle": "2023-12-01T06:36:43.410163Z",
     "shell.execute_reply": "2023-12-01T06:36:43.408792Z"
    },
    "papermill": {
     "duration": 1.731939,
     "end_time": "2023-12-01T06:36:43.412862",
     "exception": false,
     "start_time": "2023-12-01T06:36:41.680923",
     "status": "completed"
    },
    "tags": []
   },
   "outputs": [],
   "source": [
    "hash_state = ce.HashingEncoder(cols = 'state')\n",
    "train = hash_state.fit_transform(train)\n",
    "test = hash_state.transform(test)\n",
    "train.head()"
   ]
  },
  {
   "cell_type": "code",
   "execution_count": null,
   "id": "6c919ba1",
   "metadata": {
    "execution": {
     "iopub.execute_input": "2023-12-01T06:36:43.559190Z",
     "iopub.status.busy": "2023-12-01T06:36:43.558734Z",
     "iopub.status.idle": "2023-12-01T06:36:43.589277Z",
     "shell.execute_reply": "2023-12-01T06:36:43.587945Z"
    },
    "papermill": {
     "duration": 0.106473,
     "end_time": "2023-12-01T06:36:43.591907",
     "exception": false,
     "start_time": "2023-12-01T06:36:43.485434",
     "status": "completed"
    },
    "tags": []
   },
   "outputs": [],
   "source": [
    "test.head()"
   ]
  },
  {
   "cell_type": "code",
   "execution_count": null,
   "id": "7bb3b5cf",
   "metadata": {
    "execution": {
     "iopub.execute_input": "2023-12-01T06:36:43.738740Z",
     "iopub.status.busy": "2023-12-01T06:36:43.738075Z",
     "iopub.status.idle": "2023-12-01T06:36:43.781679Z",
     "shell.execute_reply": "2023-12-01T06:36:43.780547Z"
    },
    "papermill": {
     "duration": 0.11994,
     "end_time": "2023-12-01T06:36:43.784052",
     "exception": false,
     "start_time": "2023-12-01T06:36:43.664112",
     "status": "completed"
    },
    "tags": []
   },
   "outputs": [],
   "source": [
    "# replace no to 0 and yes to 1\n",
    "train.international_plan.replace(['no','yes'],[0,1],inplace = True)\n",
    "train.voice_mail_plan.replace(['no','yes'],[0,1],inplace=True)\n",
    "train.churn.replace(['no','yes'],[0,1],inplace = True)\n",
    "test.international_plan.replace(['no','yes'],[0,1],inplace = True)\n",
    "test.voice_mail_plan.replace(['no','yes'],[0,1],inplace = True)\n",
    "train.head()"
   ]
  },
  {
   "cell_type": "code",
   "execution_count": null,
   "id": "2f74ab0a",
   "metadata": {
    "execution": {
     "iopub.execute_input": "2023-12-01T06:36:43.932709Z",
     "iopub.status.busy": "2023-12-01T06:36:43.931997Z",
     "iopub.status.idle": "2023-12-01T06:36:43.956563Z",
     "shell.execute_reply": "2023-12-01T06:36:43.955608Z"
    },
    "papermill": {
     "duration": 0.102358,
     "end_time": "2023-12-01T06:36:43.959399",
     "exception": false,
     "start_time": "2023-12-01T06:36:43.857041",
     "status": "completed"
    },
    "tags": []
   },
   "outputs": [],
   "source": [
    "# converting the area_code to numerical variable using one-hot encoder\n",
    "onehot_area = OneHotEncoder()\n",
    "onehot_area.fit(train[['area_code']])\n",
    "\n",
    "# Train\n",
    "encoded_values = onehot_area.transform(train[['area_code']])\n",
    "train[onehot_area.categories_[0]] = encoded_values.toarray()\n",
    "train = train.drop('area_code', axis=1)\n",
    "\n",
    "# Test\n",
    "encoded_values = onehot_area.transform(test[['area_code']])\n",
    "test[onehot_area.categories_[0]] = encoded_values.toarray()\n",
    "test = test.drop('area_code', axis=1)"
   ]
  },
  {
   "cell_type": "code",
   "execution_count": null,
   "id": "b210b184",
   "metadata": {
    "execution": {
     "iopub.execute_input": "2023-12-01T06:36:44.117099Z",
     "iopub.status.busy": "2023-12-01T06:36:44.116379Z",
     "iopub.status.idle": "2023-12-01T06:36:44.146298Z",
     "shell.execute_reply": "2023-12-01T06:36:44.144875Z"
    },
    "papermill": {
     "duration": 0.112057,
     "end_time": "2023-12-01T06:36:44.148890",
     "exception": false,
     "start_time": "2023-12-01T06:36:44.036833",
     "status": "completed"
    },
    "tags": []
   },
   "outputs": [],
   "source": [
    "train.head()"
   ]
  },
  {
   "cell_type": "code",
   "execution_count": null,
   "id": "3957037c",
   "metadata": {
    "execution": {
     "iopub.execute_input": "2023-12-01T06:36:44.303578Z",
     "iopub.status.busy": "2023-12-01T06:36:44.303122Z",
     "iopub.status.idle": "2023-12-01T06:36:44.335564Z",
     "shell.execute_reply": "2023-12-01T06:36:44.334236Z"
    },
    "papermill": {
     "duration": 0.113394,
     "end_time": "2023-12-01T06:36:44.338238",
     "exception": false,
     "start_time": "2023-12-01T06:36:44.224844",
     "status": "completed"
    },
    "tags": []
   },
   "outputs": [],
   "source": [
    "test.head()"
   ]
  },
  {
   "cell_type": "markdown",
   "id": "23968045",
   "metadata": {
    "papermill": {
     "duration": 0.075608,
     "end_time": "2023-12-01T06:36:44.491026",
     "exception": false,
     "start_time": "2023-12-01T06:36:44.415418",
     "status": "completed"
    },
    "tags": []
   },
   "source": [
    "### Handling the Imbalanced dataset"
   ]
  },
  {
   "cell_type": "code",
   "execution_count": null,
   "id": "b548f7f3",
   "metadata": {
    "execution": {
     "iopub.execute_input": "2023-12-01T06:36:44.646389Z",
     "iopub.status.busy": "2023-12-01T06:36:44.645185Z",
     "iopub.status.idle": "2023-12-01T06:36:45.067133Z",
     "shell.execute_reply": "2023-12-01T06:36:45.065984Z"
    },
    "papermill": {
     "duration": 0.503326,
     "end_time": "2023-12-01T06:36:45.070336",
     "exception": false,
     "start_time": "2023-12-01T06:36:44.567010",
     "status": "completed"
    },
    "tags": []
   },
   "outputs": [],
   "source": [
    "# showing the imbalanced class\n",
    "sns.countplot(x = 'churn', data = train)\n",
    "plt.show()"
   ]
  },
  {
   "cell_type": "markdown",
   "id": "84bf86ab",
   "metadata": {
    "papermill": {
     "duration": 0.075429,
     "end_time": "2023-12-01T06:36:45.220770",
     "exception": false,
     "start_time": "2023-12-01T06:36:45.145341",
     "status": "completed"
    },
    "tags": []
   },
   "source": [
    "* 0 represent the no churn and 1 represent the churn so there are huge difference in the class. so we need to balanced the dataset\n",
    "* We have to use upsampling for handling the dataset"
   ]
  },
  {
   "cell_type": "code",
   "execution_count": null,
   "id": "2948bf33",
   "metadata": {
    "execution": {
     "iopub.execute_input": "2023-12-01T06:36:45.374626Z",
     "iopub.status.busy": "2023-12-01T06:36:45.373156Z",
     "iopub.status.idle": "2023-12-01T06:36:45.386943Z",
     "shell.execute_reply": "2023-12-01T06:36:45.386089Z"
    },
    "papermill": {
     "duration": 0.093222,
     "end_time": "2023-12-01T06:36:45.389433",
     "exception": false,
     "start_time": "2023-12-01T06:36:45.296211",
     "status": "completed"
    },
    "tags": []
   },
   "outputs": [],
   "source": [
    "x = train.drop('churn',axis=1).values\n",
    "y = train.churn.values\n",
    "id_submission = test.id\n",
    "test = test.drop('id', axis=1)\n",
    "# spliting the data into test and train\n",
    "x_train, x_test , y_train, y_test = train_test_split(x, y , test_size=0.3, random_state=0)"
   ]
  },
  {
   "cell_type": "code",
   "execution_count": null,
   "id": "69bf9a2e",
   "metadata": {
    "execution": {
     "iopub.execute_input": "2023-12-01T06:36:45.548235Z",
     "iopub.status.busy": "2023-12-01T06:36:45.547437Z",
     "iopub.status.idle": "2023-12-01T06:36:45.696893Z",
     "shell.execute_reply": "2023-12-01T06:36:45.695541Z"
    },
    "papermill": {
     "duration": 0.233853,
     "end_time": "2023-12-01T06:36:45.701415",
     "exception": false,
     "start_time": "2023-12-01T06:36:45.467562",
     "status": "completed"
    },
    "tags": []
   },
   "outputs": [],
   "source": [
    "print('Before upsampling count of label 0 {}'.format(sum(y_train==0)))\n",
    "print('Before upsampling count of label 1 {}'.format(sum(y_train==1)))\n",
    "# Minority Over Sampling Technique\n",
    "sm = SMOTE(sampling_strategy = 1, random_state=1)   \n",
    "x_train_s, y_train_s = sm.fit_resample(x_train, y_train.ravel())\n",
    "                                         \n",
    "print('After upsampling count of label 0 {}'.format(sum(y_train_s==0)))\n",
    "print('After upsampling count of label 1 {}'.format(sum(y_train_s==1)))"
   ]
  },
  {
   "cell_type": "markdown",
   "id": "bcc50ea8",
   "metadata": {
    "papermill": {
     "duration": 0.081778,
     "end_time": "2023-12-01T06:36:45.878811",
     "exception": false,
     "start_time": "2023-12-01T06:36:45.797033",
     "status": "completed"
    },
    "tags": []
   },
   "source": [
    "* after apply the upsampling technique the number of samples of both classes are same"
   ]
  },
  {
   "cell_type": "markdown",
   "id": "3d55088c",
   "metadata": {
    "papermill": {
     "duration": 0.082217,
     "end_time": "2023-12-01T06:36:46.042523",
     "exception": false,
     "start_time": "2023-12-01T06:36:45.960306",
     "status": "completed"
    },
    "tags": []
   },
   "source": [
    "### Scaling the dataset"
   ]
  },
  {
   "cell_type": "code",
   "execution_count": null,
   "id": "a157a53e",
   "metadata": {
    "execution": {
     "iopub.execute_input": "2023-12-01T06:36:46.202333Z",
     "iopub.status.busy": "2023-12-01T06:36:46.201884Z",
     "iopub.status.idle": "2023-12-01T06:36:46.216400Z",
     "shell.execute_reply": "2023-12-01T06:36:46.215616Z"
    },
    "papermill": {
     "duration": 0.097494,
     "end_time": "2023-12-01T06:36:46.218669",
     "exception": false,
     "start_time": "2023-12-01T06:36:46.121175",
     "status": "completed"
    },
    "tags": []
   },
   "outputs": [],
   "source": [
    "# creating the object of minmax scaler\n",
    "scaler = MinMaxScaler()\n",
    "x_train = scaler.fit_transform(x_train)\n",
    "x_test = scaler.transform(x_test)\n",
    "test = scaler.transform(test)"
   ]
  },
  {
   "cell_type": "markdown",
   "id": "c102c257",
   "metadata": {
    "papermill": {
     "duration": 0.080538,
     "end_time": "2023-12-01T06:36:46.378374",
     "exception": false,
     "start_time": "2023-12-01T06:36:46.297836",
     "status": "completed"
    },
    "tags": []
   },
   "source": [
    "### Building the model"
   ]
  },
  {
   "cell_type": "markdown",
   "id": "86de63d4",
   "metadata": {
    "papermill": {
     "duration": 0.08463,
     "end_time": "2023-12-01T06:36:46.550269",
     "exception": false,
     "start_time": "2023-12-01T06:36:46.465639",
     "status": "completed"
    },
    "tags": []
   },
   "source": [
    "#### Support Vector Classification"
   ]
  },
  {
   "cell_type": "code",
   "execution_count": null,
   "id": "83f48323",
   "metadata": {
    "execution": {
     "iopub.execute_input": "2023-12-01T06:36:46.716821Z",
     "iopub.status.busy": "2023-12-01T06:36:46.716145Z",
     "iopub.status.idle": "2023-12-01T06:36:47.045325Z",
     "shell.execute_reply": "2023-12-01T06:36:47.043653Z"
    },
    "papermill": {
     "duration": 0.413255,
     "end_time": "2023-12-01T06:36:47.047984",
     "exception": false,
     "start_time": "2023-12-01T06:36:46.634729",
     "status": "completed"
    },
    "tags": []
   },
   "outputs": [],
   "source": [
    "svc = SVC(kernel='rbf', decision_function_shape='ovr')\n",
    "svc.fit(x_train, y_train)\n",
    "y_pred = svc.predict(x_test)\n",
    "print('Accuracy: ')\n",
    "print('{}'.format(accuracy_score(y_test, y_pred)))\n",
    "print('Classification report: ')\n",
    "print('{}'.format(classification_report(y_test, y_pred)))\n",
    "print('Confusion Matrix')\n",
    "print('{}'.format(confusion_matrix(y_test, y_pred)))\n",
    "print('Cohen kappa score: ')\n",
    "print('{}'.format(cohen_kappa_score(y_test, y_pred)))"
   ]
  },
  {
   "cell_type": "markdown",
   "id": "e941ea07",
   "metadata": {
    "papermill": {
     "duration": 0.077654,
     "end_time": "2023-12-01T06:36:47.203140",
     "exception": false,
     "start_time": "2023-12-01T06:36:47.125486",
     "status": "completed"
    },
    "tags": []
   },
   "source": [
    "#### Random Forest Classifier"
   ]
  },
  {
   "cell_type": "code",
   "execution_count": null,
   "id": "d04a82a1",
   "metadata": {
    "execution": {
     "iopub.execute_input": "2023-12-01T06:36:47.361665Z",
     "iopub.status.busy": "2023-12-01T06:36:47.361207Z",
     "iopub.status.idle": "2023-12-01T06:36:48.269474Z",
     "shell.execute_reply": "2023-12-01T06:36:48.268205Z"
    },
    "papermill": {
     "duration": 0.990997,
     "end_time": "2023-12-01T06:36:48.272206",
     "exception": false,
     "start_time": "2023-12-01T06:36:47.281209",
     "status": "completed"
    },
    "tags": []
   },
   "outputs": [],
   "source": [
    "rfc = RandomForestClassifier()\n",
    "rfc.fit(x_train, y_train)\n",
    "y_pred = rfc.predict(x_test)\n",
    "print('Accuracy: ')\n",
    "print('{}'.format(accuracy_score(y_test, y_pred)))\n",
    "print('Classification report: ')\n",
    "print('{}'.format(classification_report(y_test, y_pred)))\n",
    "print('Confusion Matrix')\n",
    "print('{}'.format(confusion_matrix(y_test, y_pred)))\n",
    "print('Cohen kappa score: ')\n",
    "print('{}'.format(cohen_kappa_score(y_test, y_pred)))"
   ]
  },
  {
   "cell_type": "markdown",
   "id": "aac052e9",
   "metadata": {
    "papermill": {
     "duration": 0.07687,
     "end_time": "2023-12-01T06:36:48.427636",
     "exception": false,
     "start_time": "2023-12-01T06:36:48.350766",
     "status": "completed"
    },
    "tags": []
   },
   "source": [
    "### XGBClassifier"
   ]
  },
  {
   "cell_type": "code",
   "execution_count": null,
   "id": "e4fb1bba",
   "metadata": {
    "execution": {
     "iopub.execute_input": "2023-12-01T06:36:48.585486Z",
     "iopub.status.busy": "2023-12-01T06:36:48.585012Z",
     "iopub.status.idle": "2023-12-01T06:36:49.141512Z",
     "shell.execute_reply": "2023-12-01T06:36:49.140245Z"
    },
    "papermill": {
     "duration": 0.639029,
     "end_time": "2023-12-01T06:36:49.144131",
     "exception": false,
     "start_time": "2023-12-01T06:36:48.505102",
     "status": "completed"
    },
    "tags": []
   },
   "outputs": [],
   "source": [
    "clf = XGBClassifier(max_depth=7, n_estimators=200, colsample_bytree=0.7, \n",
    "                        subsample=0.8, nthread=10, learning_rate=0.01)\n",
    "clf.fit(x_train, y_train)\n",
    "y_pred = clf.predict(x_test)\n",
    "print('Accuracy: ')\n",
    "print('{}'.format(accuracy_score(y_test, y_pred)))\n",
    "print('Classification report: ')\n",
    "print('{}'.format(classification_report(y_test, y_pred)))\n",
    "print('Confusion Matrix')\n",
    "print('{}'.format(confusion_matrix(y_test, y_pred)))\n",
    "print('Cohen kappa score: ')\n",
    "print('{}'.format(cohen_kappa_score(y_test, y_pred)))"
   ]
  },
  {
   "cell_type": "markdown",
   "id": "d510f3e3",
   "metadata": {},
   "source": [
    "Just add a  classic LGBM Classifier. Improvements can be made with hyperparameter optimization"
   ]
  },
  {
   "cell_type": "code",
   "execution_count": null,
   "id": "0312766b",
   "metadata": {},
   "outputs": [],
   "source": [
    "model = lgb.LGBMClassifier(is_unbalance=True)\n",
    "model.fit(X, y)"
   ]
  },
  {
   "cell_type": "code",
   "execution_count": null,
   "id": "d3216ae5",
   "metadata": {},
   "outputs": [],
   "source": [
    "test['churn'] = model.predict(test.loc[:, ~test.columns.isin(['id'])])\n",
    "test['churn'] = test['churn'].apply(lambda x: 'yes' if x == 1 else 'no')"
   ]
  },
  {
   "cell_type": "code",
   "execution_count": null,
   "id": "fe1ae23e",
   "metadata": {},
   "outputs": [],
   "source": [
    "test[['id', 'churn']].to_csv('submission.csv', index=False)"
   ]
  },
  {
   "cell_type": "code",
   "execution_count": 53,
   "id": "276198fe",
   "metadata": {
    "execution": {
     "iopub.execute_input": "2023-12-01T06:36:49.297630Z",
     "iopub.status.busy": "2023-12-01T06:36:49.296824Z",
     "iopub.status.idle": "2023-12-01T06:36:49.322859Z",
     "shell.execute_reply": "2023-12-01T06:36:49.321935Z"
    },
    "papermill": {
     "duration": 0.105626,
     "end_time": "2023-12-01T06:36:49.325514",
     "exception": false,
     "start_time": "2023-12-01T06:36:49.219888",
     "status": "completed"
    },
    "tags": []
   },
   "outputs": [],
   "source": [
    "y_pred_sub = rfc.predict(test)\n"
   ]
  },
  {
   "cell_type": "code",
   "execution_count": 54,
   "id": "1d2e745c",
   "metadata": {
    "execution": {
     "iopub.execute_input": "2023-12-01T06:36:49.478100Z",
     "iopub.status.busy": "2023-12-01T06:36:49.477671Z",
     "iopub.status.idle": "2023-12-01T06:36:49.488750Z",
     "shell.execute_reply": "2023-12-01T06:36:49.487621Z"
    },
    "papermill": {
     "duration": 0.091381,
     "end_time": "2023-12-01T06:36:49.492396",
     "exception": false,
     "start_time": "2023-12-01T06:36:49.401015",
     "status": "completed"
    },
    "tags": []
   },
   "outputs": [
    {
     "data": {
      "text/html": [
       "<div>\n",
       "<style scoped>\n",
       "    .dataframe tbody tr th:only-of-type {\n",
       "        vertical-align: middle;\n",
       "    }\n",
       "\n",
       "    .dataframe tbody tr th {\n",
       "        vertical-align: top;\n",
       "    }\n",
       "\n",
       "    .dataframe thead th {\n",
       "        text-align: right;\n",
       "    }\n",
       "</style>\n",
       "<table border=\"1\" class=\"dataframe\">\n",
       "  <thead>\n",
       "    <tr style=\"text-align: right;\">\n",
       "      <th></th>\n",
       "      <th>id</th>\n",
       "      <th>churn</th>\n",
       "    </tr>\n",
       "  </thead>\n",
       "  <tbody>\n",
       "    <tr>\n",
       "      <th>745</th>\n",
       "      <td>746</td>\n",
       "      <td>0</td>\n",
       "    </tr>\n",
       "    <tr>\n",
       "      <th>746</th>\n",
       "      <td>747</td>\n",
       "      <td>0</td>\n",
       "    </tr>\n",
       "    <tr>\n",
       "      <th>747</th>\n",
       "      <td>748</td>\n",
       "      <td>0</td>\n",
       "    </tr>\n",
       "    <tr>\n",
       "      <th>748</th>\n",
       "      <td>749</td>\n",
       "      <td>0</td>\n",
       "    </tr>\n",
       "    <tr>\n",
       "      <th>749</th>\n",
       "      <td>750</td>\n",
       "      <td>0</td>\n",
       "    </tr>\n",
       "  </tbody>\n",
       "</table>\n",
       "</div>"
      ],
      "text/plain": [
       "      id  churn\n",
       "745  746      0\n",
       "746  747      0\n",
       "747  748      0\n",
       "748  749      0\n",
       "749  750      0"
      ]
     },
     "execution_count": 54,
     "metadata": {},
     "output_type": "execute_result"
    }
   ],
   "source": [
    "submit = pd.DataFrame({'id':id_submission, 'churn':y_pred_sub})\n",
    "submit.tail()"
   ]
  },
  {
   "cell_type": "code",
   "execution_count": null,
   "id": "0a986923",
   "metadata": {
    "execution": {
     "iopub.execute_input": "2023-12-01T06:36:49.654245Z",
     "iopub.status.busy": "2023-12-01T06:36:49.653760Z",
     "iopub.status.idle": "2023-12-01T06:36:49.661903Z",
     "shell.execute_reply": "2023-12-01T06:36:49.660860Z"
    },
    "papermill": {
     "duration": 0.091249,
     "end_time": "2023-12-01T06:36:49.664232",
     "exception": false,
     "start_time": "2023-12-01T06:36:49.572983",
     "status": "completed"
    },
    "tags": []
   },
   "outputs": [],
   "source": [
    "# replace 0 to no and 1 to yes\n",
    "submit.churn.replace([0,1],['no','yes'], inplace=True)"
   ]
  },
  {
   "cell_type": "code",
   "execution_count": null,
   "id": "2049fd3a",
   "metadata": {
    "execution": {
     "iopub.execute_input": "2023-12-01T06:36:49.827574Z",
     "iopub.status.busy": "2023-12-01T06:36:49.826078Z",
     "iopub.status.idle": "2023-12-01T06:36:49.840750Z",
     "shell.execute_reply": "2023-12-01T06:36:49.839445Z"
    },
    "papermill": {
     "duration": 0.100136,
     "end_time": "2023-12-01T06:36:49.843203",
     "exception": false,
     "start_time": "2023-12-01T06:36:49.743067",
     "status": "completed"
    },
    "tags": []
   },
   "outputs": [],
   "source": [
    "submit"
   ]
  },
  {
   "cell_type": "code",
   "execution_count": null,
   "id": "b4befc07",
   "metadata": {
    "papermill": {
     "duration": 0.079268,
     "end_time": "2023-12-01T06:36:50.004882",
     "exception": false,
     "start_time": "2023-12-01T06:36:49.925614",
     "status": "completed"
    },
    "tags": []
   },
   "outputs": [],
   "source": []
  }
 ],
 "metadata": {
  "kaggle": {
   "accelerator": "none",
   "dataSources": [
    {
     "databundleVersionId": 1113024,
     "sourceId": 20144,
     "sourceType": "competition"
    }
   ],
   "dockerImageVersionId": 30587,
   "isGpuEnabled": false,
   "isInternetEnabled": true,
   "language": "python",
   "sourceType": "notebook"
  },
  "kernelspec": {
   "display_name": "Python 3",
   "language": "python",
   "name": "python3"
  },
  "language_info": {
   "codemirror_mode": {
    "name": "ipython",
    "version": 3
   },
   "file_extension": ".py",
   "mimetype": "text/x-python",
   "name": "python",
   "nbconvert_exporter": "python",
   "pygments_lexer": "ipython3",
   "version": "3.11.7"
  },
  "papermill": {
   "default_parameters": {},
   "duration": 58.96245,
   "end_time": "2023-12-01T06:36:51.110921",
   "environment_variables": {},
   "exception": null,
   "input_path": "__notebook__.ipynb",
   "output_path": "__notebook__.ipynb",
   "parameters": {},
   "start_time": "2023-12-01T06:35:52.148471",
   "version": "2.4.0"
  }
 },
 "nbformat": 4,
 "nbformat_minor": 5
}
